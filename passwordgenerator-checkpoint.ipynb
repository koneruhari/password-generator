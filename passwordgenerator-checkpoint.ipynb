{
 "cells": [
  {
   "cell_type": "code",
   "execution_count": 9,
   "id": "51666744-1774-4d3a-bbf6-eeb7b2b240c8",
   "metadata": {},
   "outputs": [
    {
     "name": "stdout",
     "output_type": "stream",
     "text": [
      "✅ Strong Password: ,gjqge1Ikptv\n"
     ]
    }
   ],
   "source": [
    "import random\n",
    "import string\n",
    "\n",
    "def generate_strong_password():\n",
    "    # Mandatory characters\n",
    "    uppercase = random.choice(string.ascii_uppercase)\n",
    "    symbol = random.choice(string.punctuation)\n",
    "    digit = random.choice(string.digits)\n",
    "\n",
    "    # Remaining 9 lowercase letters\n",
    "    lowercase_letters = random.choices(string.ascii_lowercase, k=9)\n",
    "\n",
    "    # Combine all characters\n",
    "    password_list = [uppercase, symbol, digit] + lowercase_letters\n",
    "\n",
    "    # Shuffle to randomize order\n",
    "    random.shuffle(password_list)\n",
    "\n",
    "    # Join as string\n",
    "    password = ''.join(password_list)\n",
    "    return password\n",
    "\n",
    "# Generate password\n",
    "print(\"✅ Strong Password:\", generate_strong_password())"
   ]
  }
 ],
 "metadata": {
  "kernelspec": {
   "display_name": "Python 3 (ipykernel)",
   "language": "python",
   "name": "python3"
  },
  "language_info": {
   "codemirror_mode": {
    "name": "ipython",
    "version": 3
   },
   "file_extension": ".py",
   "mimetype": "text/x-python",
   "name": "python",
   "nbconvert_exporter": "python",
   "pygments_lexer": "ipython3",
   "version": "3.12.7"
  }
 },
 "nbformat": 4,
 "nbformat_minor": 5
}
